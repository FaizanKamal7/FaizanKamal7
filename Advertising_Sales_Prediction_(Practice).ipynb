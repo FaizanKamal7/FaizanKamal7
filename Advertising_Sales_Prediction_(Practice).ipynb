{
  "nbformat": 4,
  "nbformat_minor": 0,
  "metadata": {
    "colab": {
      "provenance": [],
      "authorship_tag": "ABX9TyPw02swGHQ3qTj2Mdo46mbN",
      "include_colab_link": true
    },
    "kernelspec": {
      "name": "python3",
      "display_name": "Python 3"
    },
    "language_info": {
      "name": "python"
    }
  },
  "cells": [
    {
      "cell_type": "markdown",
      "metadata": {
        "id": "view-in-github",
        "colab_type": "text"
      },
      "source": [
        "<a href=\"https://colab.research.google.com/github/FaizanKamal7/FaizanKamal7/blob/main/Advertising_Sales_Prediction_(Practice).ipynb\" target=\"_parent\"><img src=\"https://colab.research.google.com/assets/colab-badge.svg\" alt=\"Open In Colab\"/></a>"
      ]
    },
    {
      "cell_type": "code",
      "execution_count": 1,
      "metadata": {
        "colab": {
          "base_uri": "https://localhost:8080/"
        },
        "id": "zGdYW4E5yXtn",
        "outputId": "5e8c1b3d-cefa-48ec-874a-6a8003b0ed32"
      },
      "outputs": [
        {
          "output_type": "stream",
          "name": "stdout",
          "text": [
            "Looking in links: https://download.pytorch.org/whl/torch_stable.html\n",
            "Requirement already satisfied: numpy in /usr/local/lib/python3.10/dist-packages (1.23.5)\n",
            "\u001b[31mERROR: Could not find a version that satisfies the requirement torch==1.7.0+cpu (from versions: 1.11.0, 1.11.0+cpu, 1.11.0+cu102, 1.11.0+cu113, 1.11.0+cu115, 1.11.0+rocm4.3.1, 1.11.0+rocm4.5.2, 1.12.0, 1.12.0+cpu, 1.12.0+cu102, 1.12.0+cu113, 1.12.0+cu116, 1.12.0+rocm5.0, 1.12.0+rocm5.1.1, 1.12.1, 1.12.1+cpu, 1.12.1+cu102, 1.12.1+cu113, 1.12.1+cu116, 1.12.1+rocm5.0, 1.12.1+rocm5.1.1, 1.13.0, 1.13.0+cpu, 1.13.0+cu116, 1.13.0+cu117, 1.13.0+cu117.with.pypi.cudnn, 1.13.0+rocm5.1.1, 1.13.0+rocm5.2, 1.13.1, 1.13.1+cpu, 1.13.1+cu116, 1.13.1+cu117, 1.13.1+cu117.with.pypi.cudnn, 1.13.1+rocm5.1.1, 1.13.1+rocm5.2, 2.0.0, 2.0.0+cpu, 2.0.0+cpu.cxx11.abi, 2.0.0+cu117, 2.0.0+cu117.with.pypi.cudnn, 2.0.0+cu118, 2.0.0+rocm5.3, 2.0.0+rocm5.4.2, 2.0.1, 2.0.1+cpu, 2.0.1+cpu.cxx11.abi, 2.0.1+cu117, 2.0.1+cu117.with.pypi.cudnn, 2.0.1+cu118, 2.0.1+rocm5.3, 2.0.1+rocm5.4.2)\u001b[0m\u001b[31m\n",
            "\u001b[0m\u001b[31mERROR: No matching distribution found for torch==1.7.0+cpu\u001b[0m\u001b[31m\n",
            "\u001b[0m"
          ]
        }
      ],
      "source": [
        "!pip install numpy torch==1.7.0+cpu torchvision==0.8.1+cpu torchaudio==0.7.0 -f https://download.pytorch.org/whl/torch_stable.html"
      ]
    },
    {
      "cell_type": "markdown",
      "source": [
        "\n",
        "**Advertising Sales Dataset:**\n",
        "# ![image.png](data:image/png;base64,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)"
      ],
      "metadata": {
        "id": "Ez_ZA8lUzL2h"
      }
    },
    {
      "cell_type": "code",
      "source": [
        "import numpy as np\n",
        "import torch"
      ],
      "metadata": {
        "id": "TokdCREoyqfy"
      },
      "execution_count": 3,
      "outputs": []
    },
    {
      "cell_type": "code",
      "source": [
        "# Each row represents a data point, and each column represents a feature (TV, Radio, Newspaper)\n",
        "inputs = np.array([\n",
        "    [23000, 15000, 2500],\n",
        "    [45000, 20000, 3000],\n",
        "    [35000, 12000, 2000],\n",
        "    [54000, 18000, 2800],\n",
        "    [62000, 22000, 3500],\n",
        "    [32000, 15000, 2300],\n",
        "    [55000, 21000, 3200],\n",
        "    [42000, 19000, 2700],\n",
        "    [49000, 17000, 2900],\n",
        "    [58000, 20000, 3400]\n",
        "], dtype=np.float32)  # Specify dtype as float32\n",
        "\n",
        "# Define the target variable matrix as a NumPy array\n",
        "# Each row corresponds to a data point, with the first column being \"Sales Revenue\" and the second column being \"Units Sold\"\n",
        "targets = np.array([\n",
        "    [32000, 100],\n",
        "    [55000, 200],\n",
        "    [41000, 150],\n",
        "    [60000, 220],\n",
        "    [72000, 250],\n",
        "    [38000, 110],\n",
        "    [59000, 180],\n",
        "    [49000, 160],\n",
        "    [55000, 190],\n",
        "    [65000, 230]\n",
        "], dtype=np.float32)  # Specify dtype as float32\n"
      ],
      "metadata": {
        "id": "wX5Fzw9QzOS7"
      },
      "execution_count": 104,
      "outputs": []
    },
    {
      "cell_type": "code",
      "source": [
        "# Convert inputs and targets to tensors\n",
        "inputs = torch.from_numpy(inputs)\n",
        "targets = torch.from_numpy(targets)"
      ],
      "metadata": {
        "id": "RPg8uuIn1xNf"
      },
      "execution_count": 105,
      "outputs": []
    },
    {
      "cell_type": "code",
      "source": [
        "w = torch.randn(2, 3, requires_grad=True)\n",
        "b = torch.randn(2, requires_grad=True)\n",
        "print(w)\n",
        "print(b)"
      ],
      "metadata": {
        "colab": {
          "base_uri": "https://localhost:8080/"
        },
        "id": "wKX5OvWk0VoF",
        "outputId": "61088404-815e-468f-f660-98eb3957697e"
      },
      "execution_count": 106,
      "outputs": [
        {
          "output_type": "stream",
          "name": "stdout",
          "text": [
            "tensor([[-1.7425, -1.8033, -0.2085],\n",
            "        [ 0.8606, -0.2329,  0.1251]], requires_grad=True)\n",
            "tensor([-0.0464, -1.3238], requires_grad=True)\n"
          ]
        }
      ]
    },
    {
      "cell_type": "code",
      "source": [
        "def model(x):\n",
        "    return x @ w.t() + b"
      ],
      "metadata": {
        "id": "CBLSEzU41NM4"
      },
      "execution_count": 107,
      "outputs": []
    },
    {
      "cell_type": "code",
      "source": [
        "preds = model(inputs)\n",
        "print(preds)"
      ],
      "metadata": {
        "colab": {
          "base_uri": "https://localhost:8080/"
        },
        "id": "J2SFKBsh1ZTM",
        "outputId": "781c0ee1-6d12-4f07-cf22-7133df528c26"
      },
      "execution_count": 108,
      "outputs": [
        {
          "output_type": "stream",
          "name": "stdout",
          "text": [
            "tensor([[ -67646.5781,   16610.7207],\n",
            "        [-115101.0781,   34441.1172],\n",
            "        [ -83041.9922,   27573.6816],\n",
            "        [-127134.9453,   42627.0078],\n",
            "        [-148433.5469,   48667.4453],\n",
            "        [ -83286.9609,   24330.7754],\n",
            "        [-134370.5625,   42838.8750],\n",
            "        [-108007.9141,   32054.8047],\n",
            "        [-116640.2656,   38569.6094],\n",
            "        [-137836.3750,   45678.5078]], grad_fn=<AddBackward0>)\n"
          ]
        }
      ]
    },
    {
      "cell_type": "code",
      "source": [
        "def mse(t1,t2):\n",
        "  diff = t1 - t2\n",
        "  return torch.sum(diff * diff) / diff.numel()"
      ],
      "metadata": {
        "id": "lIBZPVS434bJ"
      },
      "execution_count": 109,
      "outputs": []
    },
    {
      "cell_type": "code",
      "source": [
        "loss = mse(preds,targets)\n",
        "print(loss)"
      ],
      "metadata": {
        "colab": {
          "base_uri": "https://localhost:8080/"
        },
        "id": "ChqAjrHo4ENX",
        "outputId": "9ca1e60a-4063-4b0e-bfbc-26c9589303f3"
      },
      "execution_count": 110,
      "outputs": [
        {
          "output_type": "stream",
          "name": "stdout",
          "text": [
            "tensor(1.4926e+10, grad_fn=<DivBackward0>)\n"
          ]
        }
      ]
    },
    {
      "cell_type": "code",
      "source": [
        "loss.backward()\n",
        "print(w.grad)\n",
        "print(b.grad)"
      ],
      "metadata": {
        "colab": {
          "base_uri": "https://localhost:8080/"
        },
        "id": "BGRYB0725BHT",
        "outputId": "2c624f0c-3277-4747-aab4-df486d915589"
      },
      "execution_count": 111,
      "outputs": [
        {
          "output_type": "stream",
          "name": "stdout",
          "text": [
            "tensor([[-7.9346e+09, -3.0441e+09, -4.8121e+08],\n",
            "        [ 1.7150e+09,  6.5167e+08,  1.0312e+08]])\n",
            "tensor([-164750.0312,   35160.2539])\n"
          ]
        }
      ]
    },
    {
      "cell_type": "code",
      "source": [
        "# Adjust weights & reset gradients\n",
        "with torch.no_grad():\n",
        "    w -= w.grad * 1e-5\n",
        "    b -= b.grad * 1e-5\n",
        "    print(w)\n",
        "    print(b)\n",
        "    w.grad.zero_()\n",
        "    b.grad.zero_()"
      ],
      "metadata": {
        "colab": {
          "base_uri": "https://localhost:8080/"
        },
        "id": "jqQ8PkGu5Zn3",
        "outputId": "f2537162-0b21-4e76-c8a1-1bcf911a898f"
      },
      "execution_count": 112,
      "outputs": [
        {
          "output_type": "stream",
          "name": "stdout",
          "text": [
            "tensor([[ 79344.0859,  30439.2383,   4811.8579],\n",
            "        [-17148.9219,  -6516.8828,  -1031.0811]], requires_grad=True)\n",
            "tensor([ 1.6011, -1.6754], requires_grad=True)\n"
          ]
        }
      ]
    },
    {
      "cell_type": "code",
      "source": [
        "# Calculate loss\n",
        "preds = model(inputs)\n",
        "loss = mse(preds, targets)\n",
        "print(loss)"
      ],
      "metadata": {
        "colab": {
          "base_uri": "https://localhost:8080/"
        },
        "id": "hLPmMEdz5tg_",
        "outputId": "37b1db2b-b728-44e2-b6a8-79a382dfccbf"
      },
      "execution_count": 113,
      "outputs": [
        {
          "output_type": "stream",
          "name": "stdout",
          "text": [
            "tensor(9.6371e+18, grad_fn=<DivBackward0>)\n"
          ]
        }
      ]
    },
    {
      "cell_type": "code",
      "source": [
        "for i in range(100):\n",
        "    preds = model(inputs)\n",
        "    loss = mse(preds, targets)\n",
        "    loss.backward()\n",
        "    with torch.no_grad():\n",
        "      w -= w.grad * 1e-5\n",
        "      b -= b.grad * 1e-5\n",
        "      w.grad.zero_()\n",
        "      b.grad.zero_()"
      ],
      "metadata": {
        "id": "lTrZqwUv6Qnn"
      },
      "execution_count": 118,
      "outputs": []
    },
    {
      "cell_type": "code",
      "source": [
        "# Calculate loss\n",
        "preds = model(inputs)\n",
        "loss = mse(preds, targets)\n",
        "print(loss)"
      ],
      "metadata": {
        "colab": {
          "base_uri": "https://localhost:8080/"
        },
        "id": "5lcVVd4s6XhR",
        "outputId": "d8b3cd49-61af-4c42-cf5e-9baf27a3e877"
      },
      "execution_count": 116,
      "outputs": [
        {
          "output_type": "stream",
          "name": "stdout",
          "text": [
            "tensor(nan, grad_fn=<DivBackward0>)\n"
          ]
        }
      ]
    },
    {
      "cell_type": "code",
      "source": [
        "print(preds)\n",
        "print(targets)\n"
      ],
      "metadata": {
        "colab": {
          "base_uri": "https://localhost:8080/"
        },
        "id": "or-UBUTEDqof",
        "outputId": "e9617d06-bdaa-40ec-c0fa-c530c3be55c8"
      },
      "execution_count": 117,
      "outputs": [
        {
          "output_type": "stream",
          "name": "stdout",
          "text": [
            "tensor([[nan, nan],\n",
            "        [nan, nan],\n",
            "        [nan, nan],\n",
            "        [nan, nan],\n",
            "        [nan, nan],\n",
            "        [nan, nan],\n",
            "        [nan, nan],\n",
            "        [nan, nan],\n",
            "        [nan, nan],\n",
            "        [nan, nan]], grad_fn=<AddBackward0>)\n"
          ]
        }
      ]
    }
  ]
}